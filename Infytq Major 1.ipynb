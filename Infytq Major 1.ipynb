{
 "cells": [
  {
   "cell_type": "markdown",
   "id": "756cbe30",
   "metadata": {},
   "source": [
    "# Programming Question. 1\n",
    "\n",
    "Given an array of integers nums and an integer target, return indices of the two numbers such that they add up to target.\n",
    "You may assume that each input would have exactly one solution, and you may not use the same element twice.\n",
    "You can return the answer in any order."
   ]
  },
  {
   "cell_type": "code",
   "execution_count": 2,
   "id": "3625f6eb",
   "metadata": {},
   "outputs": [
    {
     "name": "stdout",
     "output_type": "stream",
     "text": [
      "Enter no. of elements:4\n",
      "Enter list elements:\n",
      "\n",
      "2\n",
      "7\n",
      "11\n",
      "15\n",
      "Enter target:9\n",
      "[0, 1]\n"
     ]
    }
   ],
   "source": [
    "def twoSum(arr, target):\n",
    "        pos = {}\n",
    "        for i in range(len(arr)):\n",
    "            if target - arr[i] in pos:\n",
    "                       return [pos[target - arr[i]],i]\n",
    "            else:\n",
    "                       pos[arr[i]]=i \n",
    "l = []\n",
    "n = int(input(\"Enter no. of elements:\"))\n",
    "print(\"Enter list elements:\\n\")\n",
    "for i in range(0,n):\n",
    "    ele = int(input())\n",
    "    l.append(ele)\n",
    "target = int(input(\"Enter target:\"))\n",
    "                       \n",
    "print(twoSum(l,target))\n"
   ]
  },
  {
   "cell_type": "markdown",
   "id": "323989ed",
   "metadata": {},
   "source": [
    "# Programming Question. 2\n",
    "Given the names and grades for each student in a class of N students, store them in a nested list and print the name(s) of any student(s) having the second lowest grade.\n",
    "\n",
    "Note: If there are multiple students with the second lowest grade, order their names alphabetically and print each name on a new line.\n"
   ]
  },
  {
   "cell_type": "code",
   "execution_count": 5,
   "id": "d190c9b1",
   "metadata": {},
   "outputs": [
    {
     "name": "stdout",
     "output_type": "stream",
     "text": [
      "Enter no. of students:5\n",
      "Harry\n",
      "37.21\n",
      "Berry\n",
      "37.21\n",
      "Tina\n",
      "37.2\n",
      "Akriti\n",
      "41\n",
      "Harsh\n",
      "39\n",
      "Berry\n",
      "Harry\n"
     ]
    }
   ],
   "source": [
    "n = int(input((\"Enter no. of students:\")))\n",
    "\n",
    "name = []  \n",
    "for i in range(2*n):\n",
    "    name.append(input().split())\n",
    "        \n",
    "grades = {}\n",
    "for j in range(0, len(name), 2):\n",
    "    grades[name[j][0]] = float(name[j + 1][0])\n",
    "        \n",
    "result = []\n",
    "num_to_match = sorted(set(grades.values()))[1]\n",
    "for pupil in grades.keys():\n",
    "    if grades[pupil] == num_to_match:\n",
    "        result.append(pupil)\n",
    "for k in sorted(result):\n",
    "    print(k)"
   ]
  }
 ],
 "metadata": {
  "kernelspec": {
   "display_name": "Python 3",
   "language": "python",
   "name": "python3"
  },
  "language_info": {
   "codemirror_mode": {
    "name": "ipython",
    "version": 3
   },
   "file_extension": ".py",
   "mimetype": "text/x-python",
   "name": "python",
   "nbconvert_exporter": "python",
   "pygments_lexer": "ipython3",
   "version": "3.8.8"
  }
 },
 "nbformat": 4,
 "nbformat_minor": 5
}
